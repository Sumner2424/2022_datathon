{
 "cells": [
  {
   "cell_type": "markdown",
   "id": "fdc328aa",
   "metadata": {},
   "source": [
    "# Load our Data"
   ]
  },
  {
   "cell_type": "code",
   "execution_count": 1,
   "id": "65bc7bd6",
   "metadata": {},
   "outputs": [],
   "source": [
    "import numpy as np\n",
    "import pandas as pd\n",
    "\n",
    "care_management_url='C:/Users/Sumner/2022_datathon/data/care_management_anonymized.csv'\n",
    "care_info_url='C:/Users/Sumner/2022_datathon/data/client_info_anonymized.csv'\n",
    "donations_url='C:/Users/Sumner/2022_datathon/data/donations_anonymized.csv'\n",
    "pantry_url='C:/Users/Sumner/2022_datathon/data/pantry_anonymized.csv'\n",
    "volunteer_services_url='C:/Users/Sumner/2022_datathon/data/volunteer_services_anonymized.csv'\n",
    "\n",
    "care_management = pd.read_csv(care_management_url)\n",
    "care_info= pd.read_csv(care_info_url)\n",
    "donations= pd.read_csv(donations_url)\n",
    "pantry = pd.read_csv(pantry_url)\n",
    "volunteer_services = pd.read_csv(volunteer_services_url)"
   ]
  },
  {
   "cell_type": "markdown",
   "id": "294f1146",
   "metadata": {},
   "source": [
    "# Create a pared down Care Management Table that only tracks direct interactions with clients"
   ]
  },
  {
   "cell_type": "code",
   "execution_count": 2,
   "id": "06f94d88",
   "metadata": {},
   "outputs": [],
   "source": [
    "direct_care = care_management[care_management['assistance_category'] != 'Remote Contact w/o client']\n",
    "direct_care = direct_care[direct_care['assistance_category'] != 'Internal Discussions']"
   ]
  },
  {
   "cell_type": "markdown",
   "id": "1aec7036",
   "metadata": {},
   "source": [
    "# Create three series that group clients by their number of appearances in the Pantry Data, the Rides Data, and our pared down Care Management Data"
   ]
  },
  {
   "cell_type": "code",
   "execution_count": 3,
   "id": "d0b94899",
   "metadata": {},
   "outputs": [],
   "source": [
    "pantry_uses = pantry.groupby(['anon_ID'])['assistance_date'].count()\n",
    "ride_uses = volunteer_services.groupby(['anon_ID'])['appt_date'].count() \n",
    "care_uses = direct_care.groupby(['anon_ID'])['assistance_date'].count()"
   ]
  },
  {
   "cell_type": "markdown",
   "id": "da6ab536",
   "metadata": {},
   "source": [
    "# Add across these three series to create a series tracking the total direct utilizations of each client\n",
    "\n"
   ]
  },
  {
   "cell_type": "code",
   "execution_count": 4,
   "id": "238521f6",
   "metadata": {},
   "outputs": [],
   "source": [
    "utilization = pantry_uses.add(ride_uses, fill_value=0)\n",
    "utilization = utilization.add(care_uses, fill_value=0)"
   ]
  },
  {
   "cell_type": "markdown",
   "id": "b29be733",
   "metadata": {},
   "source": [
    "# Visualize these utilizations of service (I have no experience with visualization. Could use some help with this)"
   ]
  },
  {
   "cell_type": "code",
   "execution_count": 5,
   "id": "c760d383",
   "metadata": {},
   "outputs": [
    {
     "data": {
      "text/plain": [
       "<AxesSubplot:ylabel='Frequency'>"
      ]
     },
     "execution_count": 5,
     "metadata": {},
     "output_type": "execute_result"
    },
    {
     "data": {
      "image/png": "[encoded data removed]",
      "text/plain": [
       "<Figure size 432x288 with 1 Axes>"
      ]
     },
     "metadata": {
      "needs_background": "light"
     },
     "output_type": "display_data"
    }
   ],
   "source": [
    "utilization.plot(kind='hist')"
   ]
  },
  {
   "cell_type": "markdown",
   "id": "d021a998",
   "metadata": {},
   "source": [
    "# Takeaway 1"
   ]
  },
  {
   "cell_type": "markdown",
   "id": "3c490ffc",
   "metadata": {},
   "source": [
    "Over the course of two and a half years, and in the midst of unprecedented obstacles, ElderNet was able to record a remarkable 21,504 instances of direct aid given to 641 clients, 386 of which were living in poverty."
   ]
  },
  {
   "cell_type": "code",
   "execution_count": 6,
   "id": "bdfe967d",
   "metadata": {},
   "outputs": [
    {
     "data": {
      "text/plain": [
       "21504.0"
      ]
     },
     "execution_count": 6,
     "metadata": {},
     "output_type": "execute_result"
    }
   ],
   "source": [
    "utilization.sum()"
   ]
  },
  {
   "cell_type": "code",
   "execution_count": 7,
   "id": "03b8afdc",
   "metadata": {},
   "outputs": [
    {
     "data": {
      "text/plain": [
       "641"
      ]
     },
     "execution_count": 7,
     "metadata": {},
     "output_type": "execute_result"
    }
   ],
   "source": [
    "utilization.count()"
   ]
  },
  {
   "cell_type": "code",
   "execution_count": 8,
   "id": "8ebb4c91",
   "metadata": {},
   "outputs": [
    {
     "data": {
      "text/plain": [
       "386"
      ]
     },
     "execution_count": 8,
     "metadata": {},
     "output_type": "execute_result"
    }
   ],
   "source": [
    "care_info[care_info['poverty']== 'Yes'].poverty.count()"
   ]
  },
  {
   "cell_type": "markdown",
   "id": "198e7488",
   "metadata": {},
   "source": [
    "# Takeaway 2"
   ]
  },
  {
   "cell_type": "markdown",
   "id": "dcdd0aef",
   "metadata": {},
   "source": [
    "The services offered by ElderNet were returned to time and again by clients, proving not only their utility, but their availability. 119 clients took advantage of services 50 or more times, and 66 used them 100 or more times."
   ]
  },
  {
   "cell_type": "code",
   "execution_count": 9,
   "id": "90e1973f",
   "metadata": {},
   "outputs": [
    {
     "data": {
      "text/plain": [
       "119"
      ]
     },
     "execution_count": 9,
     "metadata": {},
     "output_type": "execute_result"
    }
   ],
   "source": [
    "utilization[utilization > 49].count()"
   ]
  },
  {
   "cell_type": "code",
   "execution_count": 10,
   "id": "acbe6368",
   "metadata": {},
   "outputs": [
    {
     "data": {
      "text/plain": [
       "66"
      ]
     },
     "execution_count": 10,
     "metadata": {},
     "output_type": "execute_result"
    }
   ],
   "source": [
    "utilization[utilization > 99].count()"
   ]
  },
  {
   "cell_type": "code",
   "execution_count": null,
   "id": "d857dd5a",
   "metadata": {},
   "outputs": [],
   "source": []
  }
 ],
 "metadata": {
  "kernelspec": {
   "display_name": "Python 3 (ipykernel)",
   "language": "python",
   "name": "python3"
  },
  "language_info": {
   "codemirror_mode": {
    "name": "ipython",
    "version": 3
   },
   "file_extension": ".py",
   "mimetype": "text/x-python",
   "name": "python",
   "nbconvert_exporter": "python",
   "pygments_lexer": "ipython3",
   "version": "3.9.7"
  }
 },
 "nbformat": 4,
 "nbformat_minor": 5
}
